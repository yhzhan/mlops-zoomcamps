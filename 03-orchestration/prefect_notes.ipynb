{
 "cells": [
  {
   "cell_type": "markdown",
   "id": "f272d5de-9405-478a-a02f-12e217166494",
   "metadata": {},
   "source": [
    "# Prefect Notes"
   ]
  },
  {
   "cell_type": "markdown",
   "id": "3b195924-91db-46ac-b88a-9479a0542a55",
   "metadata": {},
   "source": [
    "## 1. Set Up"
   ]
  },
  {
   "cell_type": "code",
   "execution_count": 1,
   "id": "aedad806-9912-4a9d-91df-f5aab47f218c",
   "metadata": {},
   "outputs": [
    {
     "name": "stdout",
     "output_type": "stream",
     "text": [
      "It looks like you're already authenticated on this profile.\n",
      "\u001b[32mAuthenticated with Prefect Cloud! Using workspace 'yunhan-zhan/default'.\u001b[0m\n",
      "yes: standard output: Broken pipe\n"
     ]
    }
   ],
   "source": [
    "!yes | prefect cloud login -k pnu_XU6zisjtpnrQCNErO58n4v73rMSiwF337pkL"
   ]
  },
  {
   "cell_type": "code",
   "execution_count": null,
   "id": "f2fdd363-7dd3-4f69-902c-b8ba003d7b32",
   "metadata": {},
   "outputs": [],
   "source": []
  }
 ],
 "metadata": {
  "kernelspec": {
   "display_name": "Python 3 (ipykernel)",
   "language": "python",
   "name": "python3"
  },
  "language_info": {
   "codemirror_mode": {
    "name": "ipython",
    "version": 3
   },
   "file_extension": ".py",
   "mimetype": "text/x-python",
   "name": "python",
   "nbconvert_exporter": "python",
   "pygments_lexer": "ipython3",
   "version": "3.11.13"
  }
 },
 "nbformat": 4,
 "nbformat_minor": 5
}
